{
 "cells": [
  {
   "cell_type": "code",
   "execution_count": 78,
   "id": "0eefb3d4",
   "metadata": {},
   "outputs": [],
   "source": [
    "from random import randint as rnd"
   ]
  },
  {
   "cell_type": "code",
   "execution_count": 250,
   "id": "070ca8f4",
   "metadata": {},
   "outputs": [],
   "source": [
    "memReg = r'C:\\Users\\kheri\\OneDrive\\Escritorio\\members.txt'\n",
    "exReg = r'C:\\Users\\kheri\\OneDrive\\Escritorio\\inactive.txt'\n",
    "fee = ('yes', 'no')\n",
    "\n",
    "def genFiles(current, old):\n",
    "    with open(current, 'w+') as writefile:\n",
    "        writefile.write('Membership No  Date Joined  Active  \\n')\n",
    "        data = \"{:^13}  {:<11}  {:<6}\\n\"\n",
    "        \n",
    "        for rowno in range(20):\n",
    "            date = str(rnd(2015,2021)) + '-' + str(rnd(1,12)) + '-' + str(rnd(1,25))\n",
    "            writefile.write(data.format(rnd(10000,99999),date,fee[rnd(0,1)]))\n",
    "            \n",
    "    with open(old, 'w+') as writefile:\n",
    "        writefile.write('Membership No  Date Joined  Active  \\n')\n",
    "        data = \"{:^13}  {:<11}  {:<6}\\n\"\n",
    "        \n",
    "        for rowno in range(3):\n",
    "            date = str(rnd(2015,2021)) + '-' + str(rnd(1,12)) + '-' + str(rnd(1,25))\n",
    "            writefile.write(data.format(rnd(10000,99999),date,fee[1]))\n",
    "            \n",
    "def cleanFiles(current, old):\n",
    "    trnsfrY = []\n",
    "    trnsfrN = []\n",
    "    with open(current, 'r') as c:\n",
    "        trnsfrY.append(c.readline())\n",
    "        for linesC in c:\n",
    "            if 'yes' in linesC:\n",
    "                trnsfrY.append(linesC)\n",
    "            elif 'no' in linesC:\n",
    "                trnsfrN.append(linesC)\n",
    "    with open(old, 'a+') as o:\n",
    "        for linesT in trnsfrN:\n",
    "            o.write(linesT)\n",
    "    with open(current, 'w') as c:\n",
    "        for linesT in trnsfrY:\n",
    "            c.write(linesT)\n",
    "        "
   ]
  },
  {
   "cell_type": "code",
   "execution_count": 251,
   "id": "b060e66a",
   "metadata": {},
   "outputs": [],
   "source": [
    "genFiles(memReg, exReg)"
   ]
  },
  {
   "cell_type": "code",
   "execution_count": 252,
   "id": "02cfad22",
   "metadata": {},
   "outputs": [],
   "source": [
    "cleanFiles(memReg, exReg)"
   ]
  }
 ],
 "metadata": {
  "kernelspec": {
   "display_name": "Python 3",
   "language": "python",
   "name": "python3"
  },
  "language_info": {
   "codemirror_mode": {
    "name": "ipython",
    "version": 3
   },
   "file_extension": ".py",
   "mimetype": "text/x-python",
   "name": "python",
   "nbconvert_exporter": "python",
   "pygments_lexer": "ipython3",
   "version": "3.8.8"
  }
 },
 "nbformat": 4,
 "nbformat_minor": 5
}
